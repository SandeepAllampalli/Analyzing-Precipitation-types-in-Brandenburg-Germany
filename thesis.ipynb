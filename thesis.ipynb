{
 "cells": [
  {
   "cell_type": "markdown",
   "id": "ca75ad9a",
   "metadata": {},
   "source": [
    "### Downloading data from dwd"
   ]
  },
  {
   "cell_type": "code",
   "execution_count": 1,
   "id": "2d343463",
   "metadata": {},
   "outputs": [],
   "source": [
    "import requests\n",
    "from os import mkdir\n",
    "from os.path import isdir\n",
    "from bs4 import BeautifulSoup\n",
    "from os import chdir, getcwd"
   ]
  },
  {
   "cell_type": "code",
   "execution_count": 2,
   "id": "600f4dc9",
   "metadata": {},
   "outputs": [],
   "source": [
    "url = \"https://opendata.dwd.de/climate_environment/CDC/grids_germany/hourly/radolan/historical/asc/\""
   ]
  },
  {
   "cell_type": "code",
   "execution_count": 3,
   "id": "0332316b",
   "metadata": {},
   "outputs": [],
   "source": [
    "years = [str(year) for year in range(2005,2021)]\n",
    "links = [url + i + \"/\" for i in years]"
   ]
  },
  {
   "cell_type": "markdown",
   "id": "5277312b",
   "metadata": {},
   "source": [
    "#### Creating an empty list to store list of lists"
   ]
  },
  {
   "cell_type": "code",
   "execution_count": 4,
   "id": "43dcb35e",
   "metadata": {},
   "outputs": [],
   "source": [
    "t_links = []"
   ]
  },
  {
   "cell_type": "code",
   "execution_count": 5,
   "id": "43349ed4",
   "metadata": {},
   "outputs": [],
   "source": [
    "def get_tarlinks():\n",
    "    for i in links:\n",
    "        #create response object\n",
    "        r = requests.get(i)\n",
    "        #create beautiful object\n",
    "        soup = BeautifulSoup(r.content, 'html5lib')\n",
    "        #find all links on webpage\n",
    "        a_links = soup.find_all('a')\n",
    "        #filter the link sending with .tar\n",
    "        tar_links = [i + link['href'] for link in a_links if link['href'].endswith('.tar')]\n",
    "        t_links.append(tar_links)\n",
    "    return t_links"
   ]
  },
  {
   "cell_type": "code",
   "execution_count": 6,
   "id": "f0cd98b2",
   "metadata": {},
   "outputs": [],
   "source": [
    "t_links = get_tarlinks()"
   ]
  },
  {
   "cell_type": "code",
   "execution_count": 7,
   "id": "27763612",
   "metadata": {},
   "outputs": [],
   "source": [
    "src_path = \"D:/Sandeep/Thesis/Data/\""
   ]
  },
  {
   "cell_type": "markdown",
   "id": "bf203549",
   "metadata": {},
   "source": [
    "#### Download files to local machine"
   ]
  },
  {
   "cell_type": "code",
   "execution_count": null,
   "id": "1e63a95a",
   "metadata": {},
   "outputs": [],
   "source": [
    "for i in t_links:\n",
    "    for j in i:\n",
    "        year,filename = j.split('/')[10:]\n",
    "        r = requests.get(j, allow_redirects=True)\n",
    "        if isdir(src_path+year) == False:\n",
    "            mkdir(src_path+year)\n",
    "            chdir(src_path+year)\n",
    "            open(filename, \"wb\").write(r.content)\n",
    "                \n",
    "        else:\n",
    "            open(filename, \"wb\").write(r.content)"
   ]
  },
  {
   "cell_type": "code",
   "execution_count": null,
   "id": "393c627b",
   "metadata": {},
   "outputs": [],
   "source": []
  }
 ],
 "metadata": {
  "kernelspec": {
   "display_name": "Python 3 (ipykernel)",
   "language": "python",
   "name": "python3"
  },
  "language_info": {
   "codemirror_mode": {
    "name": "ipython",
    "version": 3
   },
   "file_extension": ".py",
   "mimetype": "text/x-python",
   "name": "python",
   "nbconvert_exporter": "python",
   "pygments_lexer": "ipython3",
   "version": "3.9.13"
  }
 },
 "nbformat": 4,
 "nbformat_minor": 5
}
